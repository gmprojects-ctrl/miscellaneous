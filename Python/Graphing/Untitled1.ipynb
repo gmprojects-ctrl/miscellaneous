{
 "cells": [
  {
   "cell_type": "code",
   "execution_count": 25,
   "id": "54465ba7-0862-4f07-8887-1d1f757d1d74",
   "metadata": {},
   "outputs": [
    {
     "name": "stdout",
     "output_type": "stream",
     "text": [
      "Using matplotlib backend: Qt5Agg\n"
     ]
    }
   ],
   "source": [
    "import numpy as np\n",
    "import pandas as pd\n",
    "import matplotlib.pyplot as plt\n",
    "from scipy.stats import pearsonr\n",
    "%matplotlib"
   ]
  },
  {
   "cell_type": "code",
   "execution_count": 30,
   "id": "ae3535a8-f4f8-4d8b-9d7a-6b7e86328c59",
   "metadata": {},
   "outputs": [
    {
     "name": "stdout",
     "output_type": "stream",
     "text": [
      "(0.5741294178826037, 0.0007320550995466391)\n"
     ]
    }
   ],
   "source": [
    "df_crude_oil = pd.read_csv(\"./csvs/crude-oil-prices.csv\")\n",
    "\n",
    "df_crude_oil = df_crude_oil.drop(columns = [\"Entity\",\"Code\"] )\n",
    "df_crude_oil = df_crude_oil.tail(32)\n",
    "years= df_crude_oil[\"Year\"].values.tolist()\n",
    "crude_oil_prices = df_crude_oil.iloc[:,1]\n",
    "crude_oil_change = [ 100*((crude_oil_prices.iloc[i+1] - crude_oil_prices.iloc[i])/crude_oil_prices.iloc[i]) for i in range(0,31)]\n",
    "\n",
    "russia_gdp = pd.read_excel(\"./csvs/API_NY.GDP.MKTP.KD.ZG_DS2_en_excel_v2_2763871.xls\")\n",
    "russia_gdp = russia_gdp.loc[russia_gdp[\"Country Name\"] ==\"Russian Federation\"]\n",
    "russia_gdp = russia_gdp.iloc[:,-31:].values.tolist()\n",
    "print(pearsonr(russia_gdp[0],crude_oil_change))\n",
    "fig = plt.figure(figsize=(10,10))\n",
    "ax = fig.add_subplot(projection = \"3d\")\n",
    "\n",
    "ax.plot(years[1:],russia_gdp[0],crude_oil_change)\n",
    "ax.set_xlabel(\"Year\")\n",
    "ax.set_ylabel(\"Russian GDP Growth\")\n",
    "ax.set_zlabel(\"Crude Oil Price Change\")\n",
    "#i=0\n",
    "#for x,y in zip(russia_gdp[0],crude_oil_change):\n",
    " #   label = years[i]\n",
    "  #  i+=1\n",
    "   # plt.annotate(label,(x,y,label))\n",
    "    \n",
    "plt.grid(True)\n",
    "plt.show()"
   ]
  },
  {
   "cell_type": "code",
   "execution_count": 14,
   "id": "40850103-d48e-45b9-8fe8-7caa8243dc4b",
   "metadata": {},
   "outputs": [
    {
     "data": {
      "text/plain": [
       "[1989,\n",
       " 1990,\n",
       " 1991,\n",
       " 1992,\n",
       " 1993,\n",
       " 1994,\n",
       " 1995,\n",
       " 1996,\n",
       " 1997,\n",
       " 1998,\n",
       " 1999,\n",
       " 2000,\n",
       " 2001,\n",
       " 2002,\n",
       " 2003,\n",
       " 2004,\n",
       " 2005,\n",
       " 2006,\n",
       " 2007,\n",
       " 2008,\n",
       " 2009,\n",
       " 2010,\n",
       " 2011,\n",
       " 2012,\n",
       " 2013,\n",
       " 2014,\n",
       " 2015,\n",
       " 2016,\n",
       " 2017,\n",
       " 2018,\n",
       " 2019,\n",
       " 2020]"
      ]
     },
     "execution_count": 14,
     "metadata": {},
     "output_type": "execute_result"
    }
   ],
   "source": [
    "years"
   ]
  },
  {
   "cell_type": "code",
   "execution_count": null,
   "id": "358c2af5-fa82-4239-841b-4994e6554c3e",
   "metadata": {},
   "outputs": [],
   "source": []
  }
 ],
 "metadata": {
  "kernelspec": {
   "display_name": "Python 3 (ipykernel)",
   "language": "python",
   "name": "python3"
  },
  "language_info": {
   "codemirror_mode": {
    "name": "ipython",
    "version": 3
   },
   "file_extension": ".py",
   "mimetype": "text/x-python",
   "name": "python",
   "nbconvert_exporter": "python",
   "pygments_lexer": "ipython3",
   "version": "3.9.6"
  }
 },
 "nbformat": 4,
 "nbformat_minor": 5
}
